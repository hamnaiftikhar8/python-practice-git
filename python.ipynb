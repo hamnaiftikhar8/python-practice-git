{
  "nbformat": 4,
  "nbformat_minor": 0,
  "metadata": {
    "colab": {
      "provenance": []
    },
    "kernelspec": {
      "name": "python3",
      "display_name": "Python 3"
    },
    "language_info": {
      "name": "python"
    }
  },
  "cells": [
    {
      "cell_type": "markdown",
      "source": [
        "24th July"
      ],
      "metadata": {
        "id": "s4n1RntfT1w_"
      }
    },
    {
      "cell_type": "markdown",
      "source": [
        "# 1. Control Structures\n",
        "Problem 1: Find the First Non-Repeating Character\n",
        "\n",
        "Description: Given a string, write a function to find the first non-repeating character in it and return its index. If it doesn't exist, return -1.\n",
        "\n",
        "Function Signature: def first_unique_char(s: str) -> int:"
      ],
      "metadata": {
        "id": "WDbXukkyT35g"
      }
    },
    {
      "cell_type": "code",
      "source": [
        "def non_repeating(a:str)-> int:\n",
        "  dictionary = {}\n",
        "  for char in a:\n",
        "    if char in dictionary:\n",
        "      dictionary[char] += 1\n",
        "    else:\n",
        "      dictionary[char] = 1\n",
        "  for i, char in enumerate(a):\n",
        "    if dictionary[char] == 1:\n",
        "      return i\n",
        "  return -1"
      ],
      "metadata": {
        "id": "mYsZggpkT9Ua"
      },
      "execution_count": null,
      "outputs": []
    },
    {
      "cell_type": "code",
      "source": [
        "print(non_repeating(\"leetcode\"))  # Output: 0 (since 'l' is the first non-repeating character)\n",
        "print(non_repeating(\"loveleetcode\"))  # Output: 2 (since 'v' is the first non-repeating character)\n",
        "print(non_repeating(\"aabbcc\"))  # Output: -1 (all characters repeat)\n",
        "print(non_repeating(\"\"))  # Output: -1 (empty string)\n"
      ],
      "metadata": {
        "colab": {
          "base_uri": "https://localhost:8080/"
        },
        "id": "kkpX7ihitt5c",
        "outputId": "b7aea1eb-50a5-4b03-ddea-44811c8463cb"
      },
      "execution_count": null,
      "outputs": [
        {
          "output_type": "stream",
          "name": "stdout",
          "text": [
            "0\n",
            "2\n",
            "-1\n",
            "-1\n"
          ]
        }
      ]
    },
    {
      "cell_type": "code",
      "source": [
        "assert non_repeating(\"leetcode\") == 0\n",
        "assert non_repeating(\"loveleetcode\") == 2\n",
        "assert non_repeating(\"aabb\") == -1"
      ],
      "metadata": {
        "id": "9MRQnillUCNN"
      },
      "execution_count": null,
      "outputs": []
    },
    {
      "cell_type": "markdown",
      "source": [
        "# 2. Type Casting\n",
        "Problem 2: String to Integer (atoi)\n",
        "\n",
        "Description: Implement the my_atoi function, which converts a string to an integer. The function should handle leading whitespaces, optional plus or minus sign, and invalid input gracefully.\n",
        "\n",
        "Function Signature: def my_atoi(s: str) -> int:"
      ],
      "metadata": {
        "id": "zxRhFSBXUEa9"
      }
    },
    {
      "cell_type": "code",
      "source": [
        "def my_atoi(s: str) -> int:\n",
        "    if not s:\n",
        "        return 0\n",
        "\n",
        "    # Constants for integer limits\n",
        "    INT_MAX = 2**31 - 1\n",
        "    INT_MIN = -2**31\n",
        "\n",
        "    # Trim leading and trailing whitespace\n",
        "    s = s.strip()\n",
        "\n",
        "    if not s:\n",
        "        return 0\n",
        "\n",
        "    # Determine sign\n",
        "    sign = 1\n",
        "    if s[0] == '-':\n",
        "        sign = -1\n",
        "        s = s[1:]\n",
        "    elif s[0] == '+':\n",
        "        s = s[1:]\n",
        "\n",
        "    # Parse digits\n",
        "    result = 0\n",
        "    for char in s:\n",
        "        if char.isdigit():\n",
        "            result = result * 10 + int(char)\n",
        "        else:\n",
        "            break\n",
        "\n",
        "    # Apply sign\n",
        "    result *= sign\n",
        "\n",
        "    # Check for integer overflow/underflow\n",
        "    if result > INT_MAX:\n",
        "        return INT_MAX\n",
        "    elif result < INT_MIN:\n",
        "        return INT_MIN\n",
        "\n",
        "    return result\n"
      ],
      "metadata": {
        "id": "puwZPyGqUIVW"
      },
      "execution_count": 6,
      "outputs": []
    },
    {
      "cell_type": "code",
      "source": [
        "assert my_atoi(\"42\") == 42\n",
        "assert my_atoi(\"   -42\") == -42\n",
        "assert my_atoi(\"4193 with words\") == 4193\n",
        "assert my_atoi(\"words and 987\") == 0\n",
        "assert my_atoi(\"-91283472332\") == -2147483648"
      ],
      "metadata": {
        "id": "fHRc7NHxUJMC"
      },
      "execution_count": 7,
      "outputs": []
    },
    {
      "cell_type": "markdown",
      "source": [
        "# 3. Exception Handling\n",
        "Problem 3: Safe Division\n",
        "\n",
        "Description: Write a function that performs integer division of two numbers. The function should handle division by zero using exception handling.\n",
        "\n",
        "Function Signature: def safe_divide(a: int, b: int) -> int:"
      ],
      "metadata": {
        "id": "Wg58L9HhUNdi"
      }
    },
    {
      "cell_type": "code",
      "source": [
        "def safe_divide(a: int, b: int) -> int:\n",
        "    try:\n",
        "        result = a // b  # Perform integer division\n",
        "        return result\n",
        "    except ZeroDivisionError:\n",
        "        return \"Division by zero is not allowed\"\n",
        "    except ValueError:\n",
        "        return print(\"The value must be an integer.\")\n"
      ],
      "metadata": {
        "id": "B2waym09UTFM"
      },
      "execution_count": 8,
      "outputs": []
    },
    {
      "cell_type": "code",
      "source": [
        "assert safe_divide(10, 2) == 5\n",
        "assert safe_divide(10, 0) == \"Division by zero is not allowed\"\n",
        "assert safe_divide(-10, -2) == 5"
      ],
      "metadata": {
        "id": "MUtDrsjzUT1W"
      },
      "execution_count": 9,
      "outputs": []
    },
    {
      "cell_type": "markdown",
      "source": [
        "# 4. Functions\n",
        "Problem 4: Implement a Recursive Factorial Function\n",
        "\n",
        "Description: Write a recursive function to compute the factorial of a given non-negative integer.\n",
        "\n",
        "Function Signature: def factorial(n: int) -> int:"
      ],
      "metadata": {
        "id": "OqRts8T3UWcS"
      }
    },
    {
      "cell_type": "code",
      "source": [
        "def factorial(n: int)-> int:\n",
        "  if n <= 1:\n",
        "    return 1\n",
        "  else:\n",
        "    return n* factorial(n-1)"
      ],
      "metadata": {
        "id": "kWsL9ZKbUY9i"
      },
      "execution_count": 10,
      "outputs": []
    },
    {
      "cell_type": "code",
      "source": [
        "assert factorial(5) == 120\n",
        "assert factorial(0) == 1\n",
        "assert factorial(1) == 1"
      ],
      "metadata": {
        "id": "w6MCdGhHUaax"
      },
      "execution_count": 11,
      "outputs": []
    },
    {
      "cell_type": "markdown",
      "source": [
        "# 5. Collections (Arrays)\n",
        "Problem 5: Find All Anagrams in a String\n",
        "\n",
        "Description: Given a string s and a non-empty string p, find all the start indices of p's anagrams in s. The order of output does not matter.\n",
        "\n",
        "Function Signature: def find_anagrams(s: str, p: str) -> List[int]:"
      ],
      "metadata": {
        "id": "LSRNd7K2UcSx"
      }
    },
    {
      "cell_type": "code",
      "source": [
        "from collections import Counter\n",
        "from typing import List\n",
        "\n",
        "def find_anagrams(s: str, p: str) -> List[int]:\n",
        "    result = []\n",
        "    len_s, len_p = len(s), len(p)\n",
        "\n",
        "    if len_s < len_p:\n",
        "        return result\n",
        "\n",
        "    count_p = Counter(p)\n",
        "    count_s = Counter(s[:len_p-1])\n",
        "\n",
        "    for i in range(len_p - 1, len_s):\n",
        "        count_s[s[i]] += 1\n",
        "\n",
        "        if count_s == count_p:\n",
        "            result.append(i - len_p + 1)\n",
        "\n",
        "        count_s[s[i - len_p + 1]] -= 1\n",
        "        if count_s[s[i - len_p + 1]] == 0:\n",
        "            del count_s[s[i - len_p + 1]]\n",
        "\n",
        "    return result\n"
      ],
      "metadata": {
        "id": "ADRcTV-vUfoO"
      },
      "execution_count": 12,
      "outputs": []
    },
    {
      "cell_type": "code",
      "source": [
        "assert find_anagrams(\"cbaebabacd\", \"abc\") == [0, 6]\n",
        "assert find_anagrams(\"abab\", \"ab\") == [0, 1, 2]"
      ],
      "metadata": {
        "id": "-_h72wukUgVc"
      },
      "execution_count": 13,
      "outputs": []
    },
    {
      "cell_type": "markdown",
      "source": [
        "# 6. Strings\n",
        "Problem 6: Longest Substring Without Repeating Characters\n",
        "\n",
        "Description: Given a string, find the length of the longest substring without repeating characters.\n",
        "\n",
        "Function Signature: def length_of_longest_substring(s: str) -> int:"
      ],
      "metadata": {
        "id": "ks5rCPpOUiQ-"
      }
    },
    {
      "cell_type": "code",
      "source": [
        "def length_of_longest_substring(s:str) -> int:\n",
        "  #not completed yet"
      ],
      "metadata": {
        "id": "hpzzCD8lUmBt"
      },
      "execution_count": null,
      "outputs": []
    },
    {
      "cell_type": "code",
      "source": [
        "assert length_of_longest_substring(\"abcabcbb\") == 3\n",
        "assert length_of_longest_substring(\"bbbbb\") == 1\n",
        "assert length_of_longest_substring(\"pwwkew\") == 3"
      ],
      "metadata": {
        "id": "TNSLWljlUmxg"
      },
      "execution_count": null,
      "outputs": []
    }
  ]
}